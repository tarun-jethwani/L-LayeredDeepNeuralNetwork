{
 "cells": [
  {
   "cell_type": "code",
   "execution_count": 1,
   "metadata": {},
   "outputs": [
    {
     "name": "stderr",
     "output_type": "stream",
     "text": [
      "/Applications/anaconda3/lib/python3.6/site-packages/h5py/__init__.py:36: FutureWarning: Conversion of the second argument of issubdtype from `float` to `np.floating` is deprecated. In future, it will be treated as `np.float64 == np.dtype(float).type`.\n",
      "  from ._conv import register_converters as _register_converters\n"
     ]
    }
   ],
   "source": [
    "import numpy as np\n",
    "import h5py\n",
    "import matplotlib.pyplot as plt\n",
    "from dnn_model_utils import *"
   ]
  },
  {
   "cell_type": "code",
   "execution_count": 2,
   "metadata": {},
   "outputs": [],
   "source": [
    "np.random.seed(1)"
   ]
  },
  {
   "cell_type": "code",
   "execution_count": 3,
   "metadata": {},
   "outputs": [],
   "source": [
    "h5_train = h5py.File('cat-images-dataset/train_catvnoncat.h5','r')"
   ]
  },
  {
   "cell_type": "code",
   "execution_count": 4,
   "metadata": {},
   "outputs": [],
   "source": [
    "h5_test = h5py.File('cat-images-dataset/test_catvnoncat.h5','r')"
   ]
  },
  {
   "cell_type": "code",
   "execution_count": 5,
   "metadata": {},
   "outputs": [],
   "source": [
    "train_x_orig, train_y_orig = h5_train['train_set_x'], h5_train['train_set_y']"
   ]
  },
  {
   "cell_type": "code",
   "execution_count": 6,
   "metadata": {},
   "outputs": [],
   "source": [
    "test_x_orig, test_y_orig = h5_test['test_set_x'], h5_test['test_set_y']"
   ]
  },
  {
   "cell_type": "markdown",
   "metadata": {},
   "source": [
    "<h4>Converting the h5 dataset to Numpy Array</h4>"
   ]
  },
  {
   "cell_type": "code",
   "execution_count": 7,
   "metadata": {},
   "outputs": [],
   "source": [
    "def convert_to_numpy(X):\n",
    "    return np.array(X)"
   ]
  },
  {
   "cell_type": "code",
   "execution_count": 8,
   "metadata": {},
   "outputs": [],
   "source": [
    "train_x_orig = convert_to_numpy(train_x_orig)\n",
    "test_x_orig = convert_to_numpy(test_x_orig)\n",
    "train_y_orig = convert_to_numpy(train_y_orig)\n",
    "test_y_orig = convert_to_numpy(test_y_orig)"
   ]
  },
  {
   "cell_type": "code",
   "execution_count": 9,
   "metadata": {},
   "outputs": [
    {
     "data": {
      "text/plain": [
       "<matplotlib.image.AxesImage at 0x117cc64e0>"
      ]
     },
     "execution_count": 9,
     "metadata": {},
     "output_type": "execute_result"
    },
    {
     "data": {
      "image/png": "[encoded data removed]",
      "text/plain": [
       "<Figure size 432x288 with 1 Axes>"
      ]
     },
     "metadata": {},
     "output_type": "display_data"
    }
   ],
   "source": [
    "plt.imshow(test_x_orig[11])"
   ]
  },
  {
   "cell_type": "code",
   "execution_count": 10,
   "metadata": {},
   "outputs": [],
   "source": [
    "#Reshaping train_y_orig and test_y_orig\n",
    "\n",
    "train_y_orig = train_y_orig.reshape(1,train_y_orig.shape[0])\n",
    "test_y_orig = test_y_orig.reshape(1,test_y_orig.shape[0])"
   ]
  },
  {
   "cell_type": "code",
   "execution_count": 11,
   "metadata": {},
   "outputs": [],
   "source": [
    "# Details about the Dataset\n",
    "m_train = train_x_orig.shape[0] # Number of training examples\n",
    "num_px = train_x_orig.shape[1] # size of feature column\n",
    "m_test = test_x_orig.shape[0]"
   ]
  },
  {
   "cell_type": "code",
   "execution_count": 12,
   "metadata": {},
   "outputs": [
    {
     "name": "stdout",
     "output_type": "stream",
     "text": [
      "Number of training examples  209\n",
      "Number of test examples  50\n",
      "Each image is of size (64, 64, 3)\n",
      "train_x_orig.shape (209, 64, 64, 3)\n",
      "train_y_orig.shape (1, 209)\n",
      "test_x_orig.shape (50, 64, 64, 3)\n",
      "test_y_orig.shape (1, 50)\n"
     ]
    }
   ],
   "source": [
    "print(\"Number of training examples \", str(m_train))\n",
    "print(\"Number of test examples \", str(m_test))\n",
    "print(\"Each image is of size (\" + str(num_px) + \", \" + str(num_px) + \", 3)\")\n",
    "print(\"train_x_orig.shape\", train_x_orig.shape)\n",
    "print(\"train_y_orig.shape\", train_y_orig.shape)\n",
    "print(\"test_x_orig.shape\", test_x_orig.shape)\n",
    "print(\"test_y_orig.shape\", test_y_orig.shape)"
   ]
  },
  {
   "cell_type": "markdown",
   "metadata": {},
   "source": [
    "Reshaping the Training and Test Examples --- <strong>Flattening the Image</strong>"
   ]
  },
  {
   "cell_type": "code",
   "execution_count": 13,
   "metadata": {},
   "outputs": [],
   "source": [
    "train_x_flatten = train_x_orig.reshape(train_x_orig.shape[0], -1).T\n",
    "# the '-1' makes reshape flatten the remaining dimensions\n",
    "test_x_flatten = test_x_orig.reshape(test_x_orig.shape[0], -1).T"
   ]
  },
  {
   "cell_type": "code",
   "execution_count": 14,
   "metadata": {},
   "outputs": [
    {
     "data": {
      "text/plain": [
       "(12288, 209)"
      ]
     },
     "execution_count": 14,
     "metadata": {},
     "output_type": "execute_result"
    }
   ],
   "source": [
    "train_x_flatten.shape"
   ]
  },
  {
   "cell_type": "markdown",
   "metadata": {},
   "source": [
    "<strong>Standardize data to have feature values between 0 - 1 </strong>"
   ]
  },
  {
   "cell_type": "code",
   "execution_count": 15,
   "metadata": {},
   "outputs": [],
   "source": [
    "train_x = train_x_flatten / 255\n",
    "test_x = test_x_flatten / 255"
   ]
  },
  {
   "cell_type": "code",
   "execution_count": 16,
   "metadata": {},
   "outputs": [
    {
     "name": "stdout",
     "output_type": "stream",
     "text": [
      "train_x's shape : (12288, 209)\n",
      "train_y's shape : (12288, 50)\n"
     ]
    }
   ],
   "source": [
    "print(\"train_x's shape : \" + str(train_x.shape))\n",
    "print(\"train_y's shape : \" + str(test_x.shape))"
   ]
  },
  {
   "cell_type": "code",
   "execution_count": 17,
   "metadata": {},
   "outputs": [],
   "source": [
    "import numpy as np"
   ]
  },
  {
   "cell_type": "code",
   "execution_count": 18,
   "metadata": {},
   "outputs": [],
   "source": [
    "def L_layer_model(X, Y, layers_dims, learning_rate=0.0075, num_iterations = 3000, print_cost=False):\n",
    "    \n",
    "    \"\"\"\n",
    "    Implements a L-layer neural network: [LINEAR->RELU]*[L-1]-> LINEAR->SIGMOID\n",
    "    \n",
    "    Arguments:\n",
    "    X --- data, numpy array of shape (n_x, number of examples)\n",
    "    Y --- true \"label\" vector ( containing 1 if cat otherwise 0 if not-cat), of shape (1, number of examples)\n",
    "    layers_dims --- dimesnsions of the layers \n",
    "    learning_rate --- learning rate of the gradient descent update rule\n",
    "    print_cost --- if set to True, this will print the cost every 100 iterations\n",
    "    \n",
    "    Returns:\n",
    "    \n",
    "    parameters --- A Dictionary containing Weights matrix as well as Bias vectors of all the layers\n",
    "    \n",
    "    \"\"\"\n",
    "    \n",
    "    grads = {}\n",
    "    costs = []\n",
    "    np.random.seed(1)\n",
    "    \n",
    "    m = X.shape[1]\n",
    "  \n",
    "    \n",
    "    #Initialize parameters dictionary\n",
    "    parameters = initialize_parameters(layers_dims)\n",
    "    \n",
    "    for i in range(0, num_iterations):\n",
    "        # Forward Propogation [LINEAR -> RELU] * [L-1] -> LINEAR -> SIGMOID\n",
    "        AL, caches = L_model_forward(X, parameters)\n",
    "        \n",
    "        #Compute cost \n",
    "        cost = compute_cost(AL, Y)\n",
    "        \n",
    "        #Backward Proppogation \n",
    "        grads = L_model_backward(AL, Y, caches)\n",
    "        \n",
    "        #Update Parameters\n",
    "        parameters = update_parameters(parameters, grads, learning_rate)\n",
    "        \n",
    "        #Print cost after every 100 iterations\n",
    "        if print_cost and i %100 == 0:\n",
    "            print(\"Cost after iteration %i : %f\" %(i,cost))\n",
    "        if print_cost and i%100 == 0:\n",
    "            costs.append(cost)\n",
    "            \n",
    "    #plot the cost\n",
    "    plt.plot(np.squeeze(costs))\n",
    "    plt.ylabel('cost')\n",
    "    plt.xlabel('iterations (per tens)')\n",
    "    plt.title(\"Learning rate =\" + str(learning_rate))\n",
    "    plt.show()\n",
    "        \n",
    "    return parameters\n",
    "        "
   ]
  },
  {
   "cell_type": "code",
   "execution_count": 21,
   "metadata": {},
   "outputs": [
    {
     "name": "stdout",
     "output_type": "stream",
     "text": [
      "Cost after iteration 0 : 0.694811\n",
      "Cost after iteration 100 : 0.662157\n",
      "Cost after iteration 200 : 0.645496\n",
      "Cost after iteration 300 : 0.634488\n",
      "Cost after iteration 400 : 0.601635\n",
      "Cost after iteration 500 : 0.558767\n",
      "Cost after iteration 600 : 0.513919\n",
      "Cost after iteration 700 : 0.473652\n",
      "Cost after iteration 800 : 0.506297\n",
      "Cost after iteration 900 : 0.485062\n",
      "Cost after iteration 1000 : 0.447633\n",
      "Cost after iteration 1100 : 0.443584\n",
      "Cost after iteration 1200 : 0.425220\n",
      "Cost after iteration 1300 : 0.440789\n",
      "Cost after iteration 1400 : 0.442636\n",
      "Cost after iteration 1500 : 0.393858\n",
      "Cost after iteration 1600 : 0.331222\n",
      "Cost after iteration 1700 : 0.309201\n",
      "Cost after iteration 1800 : 0.267187\n",
      "Cost after iteration 1900 : 0.250909\n",
      "Cost after iteration 2000 : 0.225673\n",
      "Cost after iteration 2100 : 0.233465\n",
      "Cost after iteration 2200 : 0.199011\n",
      "Cost after iteration 2300 : 0.180584\n",
      "Cost after iteration 2400 : 0.139199\n",
      "Cost after iteration 2500 : 0.105950\n",
      "Cost after iteration 2600 : 0.119626\n",
      "Cost after iteration 2700 : 0.103575\n",
      "Cost after iteration 2800 : 0.111227\n",
      "Cost after iteration 2900 : 0.084159\n"
     ]
    },
    {
     "data": {
      "image/png": "[encoded data removed]",
      "text/plain": [
       "<Figure size 432x288 with 1 Axes>"
      ]
     },
     "metadata": {},
     "output_type": "display_data"
    }
   ],
   "source": [
    "parameters = L_layer_model(train_x, train_y_orig, (12288,2,1), learning_rate=0.0090, num_iterations = 3000, print_cost = True)"
   ]
  },
  {
   "cell_type": "code",
   "execution_count": null,
   "metadata": {},
   "outputs": [
    {
     "name": "stdout",
     "output_type": "stream",
     "text": [
      "Cost after iteration 0 : 0.693328\n",
      "Cost after iteration 100 : 0.676963\n",
      "Cost after iteration 200 : 0.665920\n",
      "Cost after iteration 300 : 0.658222\n",
      "Cost after iteration 400 : 0.652869\n",
      "Cost after iteration 500 : 0.649238\n",
      "Cost after iteration 600 : 0.646874\n",
      "Cost after iteration 700 : 0.645390\n",
      "Cost after iteration 800 : 0.644458\n",
      "Cost after iteration 900 : 0.643833\n",
      "Cost after iteration 1000 : 0.643340\n",
      "Cost after iteration 1100 : 0.642885\n",
      "Cost after iteration 1200 : 0.642411\n",
      "Cost after iteration 1300 : 0.641876\n",
      "Cost after iteration 1400 : 0.641257\n",
      "Cost after iteration 1500 : 0.640512\n",
      "Cost after iteration 1600 : 0.639584\n"
     ]
    }
   ],
   "source": [
    "parameters_for_5layerNN = L_layer_model(train_x, train_y_orig, (12288,1024,512,64,1), learning_rate=0.0075, num_iterations = 2500, print_cost = True)"
   ]
  },
  {
   "cell_type": "markdown",
   "metadata": {},
   "source": [
    "<strong>For Prediction over 1 Test Example</strong> "
   ]
  },
  {
   "cell_type": "code",
   "execution_count": 30,
   "metadata": {},
   "outputs": [],
   "source": [
    "# Unusual way of extracting one test example --> I know :)"
   ]
  },
  {
   "cell_type": "code",
   "execution_count": 22,
   "metadata": {},
   "outputs": [
    {
     "data": {
      "text/plain": [
       "(12288, 1)"
      ]
     },
     "execution_count": 22,
     "metadata": {},
     "output_type": "execute_result"
    }
   ],
   "source": [
    "test_x_1 = test_x.T[1].T\n",
    "test_x_1 = test_x_1.reshape(12288,1)\n",
    "test_x_1.shape"
   ]
  },
  {
   "cell_type": "code",
   "execution_count": 23,
   "metadata": {},
   "outputs": [],
   "source": [
    "def predict_for_single_example(test_x_1, parameters):\n",
    "    AL, caches = L_model_forward(test_x_1, parameters)\n",
    "    if np.squeeze(AL) >= 0.5 :\n",
    "        return 1\n",
    "    else:\n",
    "        return 0\n",
    "        \n",
    "    "
   ]
  },
  {
   "cell_type": "code",
   "execution_count": 26,
   "metadata": {},
   "outputs": [],
   "source": [
    "output = predict_for_single_example(test_x_1, parameters)"
   ]
  },
  {
   "cell_type": "code",
   "execution_count": 27,
   "metadata": {},
   "outputs": [],
   "source": [
    "output"
   ]
  },
  {
   "cell_type": "code",
   "execution_count": 28,
   "metadata": {},
   "outputs": [],
   "source": [
    "#Verifying with the Original Example "
   ]
  },
  {
   "cell_type": "code",
   "execution_count": 29,
   "metadata": {},
   "outputs": [
    {
     "data": {
      "text/plain": [
       "array([1])"
      ]
     },
     "execution_count": 29,
     "metadata": {},
     "output_type": "execute_result"
    }
   ],
   "source": [
    "test_y_orig.T[1].T"
   ]
  },
  {
   "cell_type": "markdown",
   "metadata": {},
   "source": [
    "A lot can be done after that -- \n",
    "like taking prediction over entire test set \n",
    "than calculating the test set error, \n",
    "accuracy over entire training and test set \n",
    "checking for bias and variance \n",
    "calculating the F1 score, that I am leaving for Now, May be I will try to cover some of them in my other tutorials.\n",
    "Signing off Now, will catch up in other tuts , bye  ;) "
   ]
  },
  {
   "cell_type": "code",
   "execution_count": null,
   "metadata": {},
   "outputs": [],
   "source": []
  }
 ],
 "metadata": {
  "kernelspec": {
   "display_name": "Python 3",
   "language": "python",
   "name": "python3"
  },
  "language_info": {
   "codemirror_mode": {
    "name": "ipython",
    "version": 3
   },
   "file_extension": ".py",
   "mimetype": "text/x-python",
   "name": "python",
   "nbconvert_exporter": "python",
   "pygments_lexer": "ipython3",
   "version": "3.6.5"
  }
 },
 "nbformat": 4,
 "nbformat_minor": 2
}
