{
 "cells": [
  {
   "cell_type": "markdown",
   "metadata": {},
   "source": [
    "Function 1 : <strong>Initialize Parameters</strong> "
   ]
  },
  {
   "cell_type": "code",
   "execution_count": 179,
   "metadata": {},
   "outputs": [],
   "source": [
    "def initialize_parameters(layers_dims): \n",
    "    \n",
    "    \"\"\"\n",
    "    Arguments :\n",
    "    \n",
    "    layer_dims --- python array (list) containing the dimensions of each layer in our network\n",
    "    \n",
    "    parameters --- python dictionary containing your parameters \"W1\", \"b1\", ..., \"WL\", \"bL\"\n",
    "    \n",
    "    Wl -->  weight matrix of shape (layer_dims[1], layer_dims[l-1])\n",
    "    bl --> weight matrix of shape (layer_dims[l])\n",
    "    \n",
    "    \"\"\"\n",
    "    \n",
    "    np.random.seed(3)\n",
    "    parameters = {}\n",
    "    L = len(layers_dims)\n",
    "    \n",
    "    for l in range(1, L):\n",
    "        parameters[\"W\" + str(l)] = np.random.randn(layers_dims[l], layers_dims[l-1]) * 0.01\n",
    "        parameters[\"b\" + str(l)] = np.zeros((layers_dims[l], 1))\n",
    "        \n",
    "    \n",
    "    return parameters"
   ]
  },
  {
   "cell_type": "markdown",
   "metadata": {},
   "source": [
    "Function 2 : <Strong>Linear Forward - Implementing Forward Propogation for one layer</strong>"
   ]
  },
  {
   "cell_type": "code",
   "execution_count": 180,
   "metadata": {},
   "outputs": [],
   "source": [
    "def linear_forward(A, W, b):\n",
    "    \n",
    "    \"\"\"\n",
    "    Arguments :\n",
    "    A --- Activation from Previous Layer (or input data)\n",
    "    W --- numpy matrix of shape (size of current layer, size of previous layer)\n",
    "    b --- bias vector, numpy array of shape ( size of current layer, size of previous layer) \n",
    "    \n",
    "    \"\"\"\n",
    "    \n",
    "    Z = np.dot(W, A) + b\n",
    "    \n",
    "    cache = (A, W, b)\n",
    "    \n",
    "    return Z, cache"
   ]
  },
  {
   "cell_type": "markdown",
   "metadata": {},
   "source": [
    "<strong>Activation Functions</strong>"
   ]
  },
  {
   "cell_type": "markdown",
   "metadata": {},
   "source": [
    "Functions 3 (a) : <strong>Sigmoid</strong>"
   ]
  },
  {
   "cell_type": "code",
   "execution_count": 181,
   "metadata": {},
   "outputs": [],
   "source": [
    "def sigmoid(z):\n",
    "    s = 1 / (1 + np.exp(-z))\n",
    "    return s, z"
   ]
  },
  {
   "cell_type": "markdown",
   "metadata": {},
   "source": [
    "Functions 3(b): <strong>ReLU</strong>"
   ]
  },
  {
   "cell_type": "code",
   "execution_count": 182,
   "metadata": {},
   "outputs": [],
   "source": [
    "def relu(z):\n",
    "    s = z * (z > 0)\n",
    "    return np.abs(z), z"
   ]
  },
  {
   "cell_type": "markdown",
   "metadata": {},
   "source": [
    "Function 4 : <strong>Linear Activation Forward</strong>"
   ]
  },
  {
   "cell_type": "code",
   "execution_count": 183,
   "metadata": {},
   "outputs": [],
   "source": [
    "def linear_activation_forward(A_prev, W, b, activation):\n",
    "    \n",
    "    \"\"\"\n",
    "        Arguments\n",
    "        \n",
    "        A_prev --- activation from previous layer ( or input data): (size of previous layer, number of examples)\n",
    "        W --- Weight matrix numpy array of shape (size of current_layer, size of previous_layer)\n",
    "        b --- bias vector, numpy array of shape (size of the current layer, 1)\n",
    "        activation --- the activation to be used stored as a text string: \"sigmoid\" or \"relu\"\n",
    "        \n",
    "        activation --- the ouput of the activation function, also called the post-activation value\n",
    "        \n",
    "        Returns:\n",
    "        \n",
    "        A --- the output of the activation function, also called the post-activation value\n",
    "        cache --- A python dictionary containing \"linear_cache\" and \"activaition_cache\"\n",
    "    \n",
    "    \"\"\"\n",
    "    \n",
    "    if activation == \"sigmoid\" :\n",
    "        \n",
    "        Z, linear_cache = linear_forward(A_prev, W, b)\n",
    "        A, activation_cache = sigmoid(Z)\n",
    "        \n",
    "    elif activation == 'relu' :\n",
    "        \n",
    "        Z, linear_cache = linear_forward(A_prev, W, b)\n",
    "        A, activation_cache = relu(Z)\n",
    "        \n",
    "    cache = (linear_cache, activation_cache)\n",
    "    return A, cache \n",
    "\n"
   ]
  },
  {
   "cell_type": "markdown",
   "metadata": {},
   "source": [
    "Function 5 : <strong>L_model_forward</strong> --- works with l number of layers"
   ]
  },
  {
   "cell_type": "code",
   "execution_count": 220,
   "metadata": {},
   "outputs": [],
   "source": [
    "def L_model_forward(X, parameters):\n",
    "    \n",
    "    \"\"\"\n",
    "        Arguments :\n",
    "        \n",
    "        X --- data, numpy array of shape(input_size, number_of_examples)\n",
    "        parameters --- initialized parameters \n",
    "    \n",
    "        Returns :\n",
    "        \n",
    "        AL --- Last post-activation value\n",
    "        caches --- List of caches containing:\n",
    "                    every cache of linear_relu_forward() (total L-1 caches are there, indexed from 0 to L-2)\n",
    "                    cahce of linear_sigmoid_forward() ( there is one indexed L-1)\n",
    "    \n",
    "    \"\"\"\n",
    "    \n",
    "    # Implement [Linear -> RELU] * (L-1), add cache into caches list \n",
    "    \n",
    "    caches = []\n",
    "    A = X\n",
    "    L = len(parameters) // 2\n",
    "    \n",
    "    for l in range(1, L):\n",
    "        A_prev = A\n",
    "        \n",
    "        A, cache = linear_activation_forward(A_prev, parameters['W' + str(l)],\n",
    "                                             parameters['b' + str(l)], \n",
    "                                             activation = 'relu')\n",
    "\n",
    "        caches.append(cache)\n",
    "        \n",
    "     # Implement [Linear -> Sigmoid] , add cache into caches list \n",
    "    \n",
    "    AL, cache = linear_activation_forward(A, parameters['W' + str(L)], \n",
    "                                          parameters['b' + str(L)], \n",
    "                                          activation='sigmoid')\n",
    "    \n",
    "    caches.append(cache)\n",
    "    \n",
    "    return AL, caches\n",
    "    \n",
    "    \n",
    "    "
   ]
  },
  {
   "cell_type": "markdown",
   "metadata": {},
   "source": [
    "Function 6 : <strong>Compute Cost</strong> , we are using <strong>Cross-Entropy</strong> Loss function here "
   ]
  },
  {
   "cell_type": "code",
   "execution_count": 222,
   "metadata": {},
   "outputs": [],
   "source": [
    "def compute_cost(AL, Y):\n",
    "    \n",
    "    m = Y.shape[1]\n",
    "    \n",
    "    cost = (-1/m) * np.sum(np.multiply(Y, np.log(AL)) + np.multiply(1-Y, np.log(1-AL)))\n",
    "    \n",
    "    cost = np.squeeze(cost)\n",
    "    \n",
    "    return cost"
   ]
  },
  {
   "cell_type": "markdown",
   "metadata": {},
   "source": [
    "Function 7: <strong>Linear Backward</strong>"
   ]
  },
  {
   "cell_type": "code",
   "execution_count": 225,
   "metadata": {},
   "outputs": [],
   "source": [
    "def linear_backward(dZ, cache):\n",
    "    \n",
    "    \"\"\"\n",
    "    \n",
    "    Implement the linear portion of backward propogation for a single layer (layer l)\n",
    "    \n",
    "    Arguments : \n",
    "        \n",
    "        dZ --- Gradient of the cost wrt linear output of current layer \n",
    "        cache --- tuple of values (A_prev, W, b) coming from forward propogation in the current layer\n",
    "        \n",
    "    Returns :\n",
    "        \n",
    "        dA_prev --- Gradient of the cost wrt activation (of the previous layer l-1), same shape as A_prev\n",
    "        dW --- Gradient of the cost wrt W (current layer l), same shape as W, \n",
    "        db --- Gradient of the cost wrt b ( current layer l), same shape as b\n",
    "    \n",
    "    \"\"\"\n",
    "    \n",
    "    A_prev, W, b = cache\n",
    "    m = A_prev.shape[1]\n",
    "    \n",
    "    dW = np.dot(dZ, cache[0].T) / m\n",
    "    db = np.squeeze(np.sum(dZ, axis=1, keepdims=True)) / m\n",
    "    dA_prev = np.dot(cache[1].T, dZ)\n",
    "    \n",
    "    return dA_prev, dW, db\n",
    "    "
   ]
  },
  {
   "cell_type": "raw",
   "metadata": {},
   "source": [
    "derivative J wrt to Z ---> dZ when activation = 'sigmoid'\n",
    "\n",
    "A - Y , where Y is the output vector, and A is the Activation Vector \n",
    "\n",
    "derivative J wrt to Z ---> dZ when activation = 'relu'\n",
    "\n",
    "dA when Z = Z and 0 when Z = 0\n",
    "\n",
    " \n"
   ]
  },
  {
   "cell_type": "markdown",
   "metadata": {},
   "source": [
    "Function 8 : \n",
    "    8(a) <strong>ReLU Backward</strong> Function \n",
    "    8(b) <strong>Sigmoid Backward</strong> Function "
   ]
  },
  {
   "cell_type": "code",
   "execution_count": 226,
   "metadata": {},
   "outputs": [],
   "source": [
    "def relu_backward(dA, activation_cache):\n",
    "    dZ = dA * (activation_cache > 0)\n",
    "    return dZ"
   ]
  },
  {
   "cell_type": "code",
   "execution_count": 227,
   "metadata": {},
   "outputs": [],
   "source": [
    "def sigmoid_backward(dA, activation_cache):\n",
    "    Z = activation_cache\n",
    "    s = 1 / (1 + np.exp(-Z))\n",
    "    dZ = s * (1 - s) * dA\n",
    "    return dZ"
   ]
  },
  {
   "cell_type": "markdown",
   "metadata": {},
   "source": [
    "Function 9 : <strong>Linear Activation Backward</strong>"
   ]
  },
  {
   "cell_type": "code",
   "execution_count": 228,
   "metadata": {},
   "outputs": [],
   "source": [
    "def linear_activation_backward(dA, cache, activation):\n",
    "    \"\"\"\n",
    "    Arguments: \n",
    "        dA --- post-activation gradient for current layer\n",
    "        cache --- tuple of values (linear_cache, activation_cache) we store for \n",
    "        computing backward propogation efficiently \n",
    "        activaition --- the activation to be used in this layer, \n",
    "        stored as a text string: \"sigmoid\" or \"relu\"\n",
    "            \n",
    "    Returns:\n",
    "        dA_prev --- Gradient of the cost with respect to the activation (of the previous layer l-1), \n",
    "                same shape as A_prev\n",
    "        dW --- Gradient of the cost with respect to W (current layer l), same shape as W\n",
    "        db --- Gradient of the cost with respect to b (current layer l), same shape as b\n",
    "    \n",
    "    \"\"\"\n",
    "        \n",
    "    linear_cache, activation_cache = cache\n",
    "        \n",
    "    if activation == 'relu':\n",
    "        dZ = relu_backward(dA, activation_cache)\n",
    "            \n",
    "    elif activation == 'sigmoid':\n",
    "        dZ = sigmoid_backward(dA, activation_cache)\n",
    "            \n",
    "            \n",
    "    dA_prev, dW, db = linear_backward(dZ, linear_cache)\n",
    "        \n",
    "    return dA_prev, dW, db"
   ]
  },
  {
   "cell_type": "markdown",
   "metadata": {},
   "source": [
    "Function 10: <strong>L_model_backward</strong> --- works with l number of layers "
   ]
  },
  {
   "cell_type": "code",
   "execution_count": 229,
   "metadata": {},
   "outputs": [],
   "source": [
    "def L_model_backward(AL, Y, caches):\n",
    "    \n",
    "    \"\"\"\n",
    "    Implement the backward propogation for the (LINEAR -> RELU) * (L-1) -> (LINEAR -> SIGMOID) group\n",
    "    \n",
    "    Arguments:\n",
    "    \n",
    "    AL --- probability vector, output of the forward propogation (L_model_forward())\n",
    "    Y --- true \"label\" vector (containing 0 if non-cat, 1 if cat)\n",
    "    caches -- list of caches containing :\n",
    "              every cache of linear_activation_forward() with 'relu' it's caches[1], for l in range(L-1) \n",
    "              i.e l = 0 .... L-2)\n",
    "              the cache of linear_activation_forward() with \"sigmoid\", its caches[L-1]\n",
    "        \n",
    "    Returns:\n",
    "    \n",
    "    grads --- A dictionary with the gradients\n",
    "        grads[\"dA\" + str(l)] = ...\n",
    "        grads[\"dW\" + str(l)] = ...\n",
    "        grads[\"db\" + str(l)] = ...\n",
    "    \n",
    "    \"\"\"\n",
    "    \n",
    "    grads = {}\n",
    "    L = len(caches)\n",
    "    m = AL.shape[1]\n",
    "    Y = Y.reshape(AL.shape)\n",
    "    \n",
    "    # Initializing the Back Propogation \n",
    "    dAL = dAL = - (np.divide(Y, AL) - np.divide(1-Y, 1-AL))\n",
    "    \n",
    "    current_cache = caches[-1]\n",
    "    grads[\"dA\" + str(L)], grads[\"dW\" + str(L)], grads[\"db\" + str(L)] = linear_backward(sigmoid_backward(dAL, \n",
    "                                                                                       current_cache[1]), \n",
    "                                                                                       current_cache[0])\n",
    "    \n",
    "    for l in reversed(range(L-1)):\n",
    "        \n",
    "        current_cache = caches[l]\n",
    "        dA_prev_temp, dW_temp, db_temp = linear_backward(relu_backward(grads[\"dA\" + str(l+2)],\n",
    "                                                                       current_cache[1]), \n",
    "                                                                       current_cache[0])\n",
    "        grads[\"dA\" + str(l + 1)] = dA_prev_temp\n",
    "        grads[\"dW\" + str(l + 1)] = dW_temp\n",
    "        grads[\"db\" + str(l + 1)] = db_temp\n",
    "                                                                                       \n",
    "    return grads                                                                                 "
   ]
  },
  {
   "cell_type": "markdown",
   "metadata": {},
   "source": [
    "Function 11: <strong>Update Parameters</strong>"
   ]
  },
  {
   "cell_type": "code",
   "execution_count": 230,
   "metadata": {},
   "outputs": [],
   "source": [
    "def update_parameters(parameters, grads, learning_rate):\n",
    "    \"\"\"\n",
    "    Arguments : \n",
    "        parameters --- python dictionary containing parameters\n",
    "        grads --- python dictionary containing gradients\n",
    "        \n",
    "    Returns :\n",
    "        parameters -- python dictionary containing your updated parameters\n",
    "                      parameters[\"W\" + str(l)] = ...\n",
    "                      parameters[\"b\" + str(l)] = ...\n",
    "    \"\"\"\n",
    "        \n",
    "    L = len(parameters) // 2\n",
    "        \n",
    "    for l in range(L):\n",
    "        parameters[\"W\" + str(l + 1)]  = parameters[\"W\" + str(l + 1)] - learning_rate * grads[\"dW\" + str(l + 1)]\n",
    "        parameters[\"b\" + str(l + 1)]  = parameters[\"b\" + str(l + 1)] - learning_rate * grads[\"db\" + str(l + 1)]\n",
    "            \n",
    "    return parameters"
   ]
  }
 ],
 "metadata": {
  "kernelspec": {
   "display_name": "Python 3",
   "language": "python",
   "name": "python3"
  },
  "language_info": {
   "codemirror_mode": {
    "name": "ipython",
    "version": 3
   },
   "file_extension": ".py",
   "mimetype": "text/x-python",
   "name": "python",
   "nbconvert_exporter": "python",
   "pygments_lexer": "ipython3",
   "version": "3.6.5"
  }
 },
 "nbformat": 4,
 "nbformat_minor": 2
}
